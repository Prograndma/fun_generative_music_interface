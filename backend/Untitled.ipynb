{
 "cells": [
  {
   "cell_type": "code",
   "execution_count": 14,
   "id": "ee0788b9",
   "metadata": {},
   "outputs": [],
   "source": [
    "# pip install midi\n",
    "from midiutil.MidiFile import MIDIFile\n",
    "import os\n",
    "\n",
    "START_OF_ARRAY = 41     # Bottom G note. \n",
    "TOP_OF_ARRAY = 79       # Top G note. \n",
    "\n",
    "note_dict = {\n",
    "    \"G\": 43,\n",
    "    \"A\": 45,\n",
    "    \"B\": 47,\n",
    "    \"C\": 48,\n",
    "    \"D\": 50,\n",
    "    \"E\": 52,\n",
    "    \"F\": 53,\n",
    "}\n",
    "\n",
    "octave_dict = {\n",
    "    2: 0,\n",
    "    3: 12,\n",
    "    4: 24,\n",
    "    5: 36,\n",
    "    6: 48, \n",
    "    7: 60,\n",
    "}\n",
    "\n",
    "def string_parse(in_str):\n",
    "    duration = in_str[1]\n",
    "    note = in_str[0]\n",
    "    sharp = note[1]\n",
    "    octave = note[-1]\n",
    "\n",
    "    midi_value = note_dict[note[0]]\n",
    "    \n",
    "    if sharp ==\"#\":\n",
    "        midi_value +=1\n",
    "    midi_value += octave_dict[int(octave)]\n",
    "\n",
    "    return duration, midi_value\n",
    "\n",
    "def populate_midi(notes, tempo):\n",
    "    path = \"output.midi\"\n",
    "    mf = MIDIFile(1)     # only 1 track\n",
    "    track = 0   # the only track\n",
    "    time = 0    # start at the beginning\n",
    "    channel = 0\n",
    "    volume = 100\n",
    "    tempo = int(tempo)\n",
    "    mf.addTrackName(track, time, \"Sample Track\")\n",
    "    mf.addTempo(track, time, tempo)\n",
    "    for note_time, pitches in enumerate(notes):\n",
    "        for pitch in pitches:\n",
    "            duration, note_value = string_parse(pitch)\n",
    "            print(note_time)\n",
    "            mf.addNote(track, channel, note_value, note_time, duration, volume)\n",
    "    \n",
    "    with open(path, 'wb') as f: \n",
    "        mf.writeFile(f) \n",
    "    \n",
    "    #descriptor = os.open(path=path, \n",
    "    #                     flags=(\n",
    "    #                         os.O_WRONLY \n",
    "    #                         | os.O_CREAT\n",
    "    #                         | os.O_TRUNC\n",
    "    #                     ),\n",
    "    #                     mode=0o777)\n",
    "\n",
    "    #with open(descriptor, 'wb') as outf:\n",
    "    #    mf.writeFile(outf)\n",
    "    print(mf)\n",
    "    return \"output.midi\"\n"
   ]
  },
  {
   "cell_type": "code",
   "execution_count": 20,
   "id": "da86da08",
   "metadata": {},
   "outputs": [],
   "source": [
    "notes = string\n",
    "tempo = 200\n",
    "path = \"output.midi\"\n",
    "mf = MIDIFile(1)     # only 1 track\n",
    "track = 0   # the only track\n",
    "time = 0    # start at the beginning\n",
    "channel = 0\n",
    "volume = 100\n",
    "tempo = int(tempo)\n",
    "mf.addTrackName(track, time, \"Sample Track\")\n",
    "mf.addTempo(track, time, tempo)\n",
    "for note_time, pitches in enumerate(notes):\n",
    "    for pitch in pitches:\n",
    "        duration, note_value = string_parse(pitch)\n",
    "        mf.addNote(track, channel, note_value, note_time, duration, volume)\n",
    "    \n"
   ]
  },
  {
   "cell_type": "code",
   "execution_count": 15,
   "id": "2e16d022",
   "metadata": {},
   "outputs": [],
   "source": [
    "string =[[['G3', '1'], ['G2', '8']], [['B3', '1']], [['G4', '1']], [['B3', '1']], [['G5', '2'], ['G3', '1']], [['B3', '1']], [['G5', '2'], ['G4', '1']], [['B3', '1']], [['F#5', '3'], ['F#3', '1'], ['D3', '8']], [['A3', '1']], [['F#4', '1']], [['E5', '1'], ['A3', '1']], [['F#5', '2'], ['F#3', '1']], [['A3', '1']], [['F#5', '1'], ['F#4', '1']], [['G5', '1'], ['A3', '1']], [['E5', '11'], ['E3', '8']], [['G3', '1']], [['E4', '1']], [['G3', '1']], [], [['G3', '1']], [['E4', '1']], [['G3', '1']], [['E3', '1'], ['C3', '8']], [['C4', '1']], [['E4', '1']], [['C4', '1']], [['E5', '2'], ['E3', '1']], [['C4', '1']], [['F#5', '2'], ['E4', '1']], [['C4', '1']]]"
   ]
  },
  {
   "cell_type": "code",
   "execution_count": 16,
   "id": "9a77c57f",
   "metadata": {},
   "outputs": [
    {
     "name": "stdout",
     "output_type": "stream",
     "text": [
      "[[['G3', '1'], ['G2', '8']], [['B3', '1']], [['G4', '1']], [['B3', '1']], [['G5', '2'], ['G3', '1']], [['B3', '1']], [['G5', '2'], ['G4', '1']], [['B3', '1']], [['F#5', '3'], ['F#3', '1'], ['D3', '8']], [['A3', '1']], [['F#4', '1']], [['E5', '1'], ['A3', '1']], [['F#5', '2'], ['F#3', '1']], [['A3', '1']], [['F#5', '1'], ['F#4', '1']], [['G5', '1'], ['A3', '1']], [['E5', '11'], ['E3', '8']], [['G3', '1']], [['E4', '1']], [['G3', '1']], [], [['G3', '1']], [['E4', '1']], [['G3', '1']], [['E3', '1'], ['C3', '8']], [['C4', '1']], [['E4', '1']], [['C4', '1']], [['E5', '2'], ['E3', '1']], [['C4', '1']], [['F#5', '2'], ['E4', '1']], [['C4', '1']]]\n"
     ]
    }
   ],
   "source": [
    "print(string)"
   ]
  },
  {
   "cell_type": "code",
   "execution_count": 17,
   "id": "4cd850ce",
   "metadata": {},
   "outputs": [
    {
     "ename": "NameError",
     "evalue": "name 'mf' is not defined",
     "output_type": "error",
     "traceback": [
      "\u001b[1;31m---------------------------------------------------------------------------\u001b[0m",
      "\u001b[1;31mNameError\u001b[0m                                 Traceback (most recent call last)",
      "Cell \u001b[1;32mIn[17], line 1\u001b[0m\n\u001b[1;32m----> 1\u001b[0m \u001b[43mmf\u001b[49m\n",
      "\u001b[1;31mNameError\u001b[0m: name 'mf' is not defined"
     ]
    }
   ],
   "source": [
    "mf"
   ]
  },
  {
   "cell_type": "code",
   "execution_count": 18,
   "id": "9e1b07fe",
   "metadata": {},
   "outputs": [
    {
     "name": "stdout",
     "output_type": "stream",
     "text": [
      "0\n",
      "0\n",
      "1\n",
      "2\n",
      "3\n",
      "4\n",
      "4\n",
      "5\n",
      "6\n",
      "6\n",
      "7\n",
      "8\n",
      "8\n",
      "8\n",
      "9\n",
      "10\n",
      "11\n",
      "11\n",
      "12\n",
      "12\n",
      "13\n",
      "14\n",
      "14\n",
      "15\n",
      "15\n",
      "16\n",
      "16\n",
      "17\n",
      "18\n",
      "19\n",
      "21\n",
      "22\n",
      "23\n",
      "24\n",
      "24\n",
      "25\n",
      "26\n",
      "27\n",
      "28\n",
      "28\n",
      "29\n",
      "30\n",
      "30\n",
      "31\n",
      "<midiutil.MidiFile.MIDIFile object at 0x0000015C24190A30>\n"
     ]
    },
    {
     "data": {
      "text/plain": [
       "'output.midi'"
      ]
     },
     "execution_count": 18,
     "metadata": {},
     "output_type": "execute_result"
    }
   ],
   "source": [
    "populate_midi(string, 180)"
   ]
  },
  {
   "cell_type": "code",
   "execution_count": 12,
   "id": "6265ab44",
   "metadata": {},
   "outputs": [
    {
     "name": "stdout",
     "output_type": "stream",
     "text": [
      "1\n",
      "2\n",
      "3\n",
      "4\n",
      "5\n",
      "6\n",
      "7\n",
      "8\n"
     ]
    }
   ],
   "source": [
    "from midiutil import MIDIFile\n",
    "\n",
    "degrees  = [60, 62, 64, 65, 67, 69, 71, 72] # MIDI note number\n",
    "track    = 0\n",
    "channel  = 0\n",
    "time     = 0   # In beats\n",
    "duration = 1   # In beats\n",
    "tempo    = 60  # In BPM\n",
    "volume   = 100 # 0-127, as per the MIDI standard\n",
    "\n",
    "MyMIDI = MIDIFile(1) # One track, defaults to format 1 (tempo track\n",
    "                     # automatically created)\n",
    "MyMIDI.addTempo(track,time, tempo)\n",
    "\n",
    "for pitch in degrees:\n",
    "    MyMIDI.addNote(track, channel, pitch, time, duration, volume)\n",
    "    time = time + 1\n",
    "    print(time)\n",
    "\n",
    "with open(\"major-scale.mid\", \"wb\") as output_file:\n",
    "    MyMIDI.writeFile(output_file)"
   ]
  },
  {
   "cell_type": "code",
   "execution_count": null,
   "id": "2efeb5fd",
   "metadata": {},
   "outputs": [],
   "source": []
  }
 ],
 "metadata": {
  "kernelspec": {
   "display_name": "Python 3 (ipykernel)",
   "language": "python",
   "name": "python3"
  },
  "language_info": {
   "codemirror_mode": {
    "name": "ipython",
    "version": 3
   },
   "file_extension": ".py",
   "mimetype": "text/x-python",
   "name": "python",
   "nbconvert_exporter": "python",
   "pygments_lexer": "ipython3",
   "version": "3.10.9"
  }
 },
 "nbformat": 4,
 "nbformat_minor": 5
}
