{
 "cells": [
  {
   "cell_type": "code",
   "execution_count": 1,
   "id": "ee0788b9",
   "metadata": {},
   "outputs": [],
   "source": [
    "# pip install midi\n",
    "from midiutil.MidiFile import MIDIFile\n",
    "import os\n",
    "\n",
    "\n",
    "def string_parse(in_str):\n",
    "    duration = in_str[1]\n",
    "    note = in_str[0]\n",
    "    midi_value = 79 - note \n",
    "    return duration, midi_value\n",
    "\n",
    "def populate_midi(notes, tempo):\n",
    "    path = \"output.midi\"\n",
    "    mf = MIDIFile(1)     # only 1 track\n",
    "    track = 0   # the only track\n",
    "    time = 0    # start at the beginning\n",
    "    channel = 0\n",
    "    volume = 100\n",
    "    tempo = int(tempo)\n",
    "    mf.addTrackName(track, time, \"Sample Track\")\n",
    "    mf.addTempo(track, time, tempo)\n",
    "    for note_time, pitches in enumerate(notes):\n",
    "        for pitch in pitches:\n",
    "            duration, note_value = string_parse(pitch)\n",
    "            print(note_time)\n",
    "            mf.addNote(track, channel, note_value, note_time, duration, volume)\n",
    "    \n",
    "    with open(path, 'wb') as f: \n",
    "        mf.writeFile(f) \n",
    "    \n",
    "    #descriptor = os.open(path=path, \n",
    "    #                     flags=(\n",
    "    #                         os.O_WRONLY \n",
    "    #                         | os.O_CREAT\n",
    "    #                         | os.O_TRUNC\n",
    "    #                     ),\n",
    "    #                     mode=0o777)\n",
    "\n",
    "    #with open(descriptor, 'wb') as outf:\n",
    "    #    mf.writeFile(outf)\n",
    "    print(mf)\n",
    "    return \"output.midi\"\n"
   ]
  },
  {
   "cell_type": "code",
   "execution_count": 5,
   "id": "f790bc71",
   "metadata": {},
   "outputs": [],
   "source": [
    "import torch\n",
    "\n",
    "# pip install miditok=2.1.5 VERY IMPORTANT\n",
    "from miditok import REMI\n",
    "\n",
    "from transformers import GPT2LMHeadModel\n",
    "from miditoolkit import MidiFile\n",
    "\n",
    "class MidiGenerator():\n",
    "    def __init__(self):\n",
    "        self.tokenizer = REMI(params = \"GPT2Piano\\\\Tokenizer\\\\tokenizer.conf\")\n",
    "        self.model = GPT2LMHeadModel.from_pretrained(\"Qilex/GPT2Piano\")\n",
    "        self.device = torch.device(0)\n",
    "        self.model.to(self.device)\n",
    "\n",
    "    def condition_on_existing(self, midi_file):\n",
    "        mid = MidiFile(midi_file, clip=True)\n",
    "        # print(mid)\n",
    "        tokens = self.tokenizer(mid)\n",
    "        prompt = torch.tensor(tokens, dtype=torch.int64).to(self.device)\n",
    "        continuation = self.model.generate(prompt, max_new_tokens=512,\n",
    "                                           num_beams=1,\n",
    "                                           do_sample=True,\n",
    "                                           temperature=1.1,\n",
    "                                           top_k=75,\n",
    "                                           top_p=0.9,\n",
    "                                           pad_token_id=self.tokenizer['PAD_None'])\n",
    "        midi_result = self.tokenizer(continuation.cpu())\n",
    "        midi_result.dump('continuation.midi')\n",
    "        return \"continuation.midi\""
   ]
  },
  {
   "cell_type": "code",
   "execution_count": 6,
   "id": "11453de0",
   "metadata": {},
   "outputs": [
    {
     "name": "stderr",
     "output_type": "stream",
     "text": [
      "C:\\Users\\alexm\\AppData\\Local\\Programs\\Python\\Python310\\lib\\site-packages\\torch\\_utils.py:776: UserWarning: TypedStorage is deprecated. It will be removed in the future and UntypedStorage will be the only storage class. This should only matter to you if you are using storages directly.  To access UntypedStorage directly, use tensor.untyped_storage() instead of tensor.storage()\n",
      "  return self.fget.__get__(instance, owner)()\n"
     ]
    }
   ],
   "source": [
    "generator = MidiGenerator()\n"
   ]
  },
  {
   "cell_type": "code",
   "execution_count": 7,
   "id": "1e4a505d",
   "metadata": {},
   "outputs": [],
   "source": [
    "midi = generator.condition_on_existing(\"output.midi\")\n"
   ]
  },
  {
   "cell_type": "code",
   "execution_count": 22,
   "id": "da86da08",
   "metadata": {},
   "outputs": [
    {
     "name": "stdout",
     "output_type": "stream",
     "text": [
      "Pitch is 55 beat is 0 and length is 1\n",
      "Pitch is 43 beat is 0 and length is 8\n",
      "Pitch is 59 beat is 1 and length is 1\n",
      "Pitch is 67 beat is 2 and length is 1\n",
      "Pitch is 59 beat is 3 and length is 1\n",
      "Pitch is 79 beat is 4 and length is 2\n",
      "Pitch is 55 beat is 4 and length is 1\n",
      "Pitch is 59 beat is 5 and length is 1\n",
      "Pitch is 79 beat is 6 and length is 2\n",
      "Pitch is 67 beat is 6 and length is 1\n",
      "Pitch is 59 beat is 7 and length is 1\n",
      "Pitch is 78 beat is 8 and length is 3\n",
      "Pitch is 54 beat is 8 and length is 1\n",
      "Pitch is 50 beat is 8 and length is 8\n",
      "Pitch is 57 beat is 9 and length is 1\n",
      "Pitch is 66 beat is 10 and length is 1\n",
      "Pitch is 76 beat is 11 and length is 1\n",
      "Pitch is 57 beat is 11 and length is 1\n",
      "Pitch is 78 beat is 12 and length is 2\n",
      "Pitch is 54 beat is 12 and length is 1\n",
      "Pitch is 57 beat is 13 and length is 1\n",
      "Pitch is 78 beat is 14 and length is 1\n",
      "Pitch is 66 beat is 14 and length is 1\n",
      "Pitch is 79 beat is 15 and length is 1\n",
      "Pitch is 57 beat is 15 and length is 1\n",
      "Pitch is 76 beat is 16 and length is 11\n",
      "Pitch is 52 beat is 16 and length is 8\n",
      "Pitch is 55 beat is 17 and length is 1\n",
      "Pitch is 64 beat is 18 and length is 1\n",
      "Pitch is 55 beat is 19 and length is 1\n",
      "Pitch is 55 beat is 21 and length is 1\n",
      "Pitch is 64 beat is 22 and length is 1\n",
      "Pitch is 55 beat is 23 and length is 1\n",
      "Pitch is 52 beat is 24 and length is 1\n",
      "Pitch is 48 beat is 24 and length is 8\n",
      "Pitch is 60 beat is 25 and length is 1\n",
      "Pitch is 64 beat is 26 and length is 1\n",
      "Pitch is 60 beat is 27 and length is 1\n",
      "Pitch is 76 beat is 28 and length is 2\n",
      "Pitch is 52 beat is 28 and length is 1\n",
      "Pitch is 60 beat is 29 and length is 1\n",
      "Pitch is 78 beat is 30 and length is 2\n",
      "Pitch is 64 beat is 30 and length is 1\n",
      "Pitch is 60 beat is 31 and length is 1\n"
     ]
    }
   ],
   "source": [
    "notes = [[[24, '1'], [36, '8']], [[20, '1']], [[12, '1']], [[20, '1']], [[0, '2'], [24, '1']], [[20, '1']], [[0, '2'], [12, '1']], [[20, '1']], [[1, '3'], [25, '1'], [29, '8']], [[22, '1']], [[13, '1']], [[3, '1'], [22, '1']], [[1, '2'], [25, '1']], [[22, '1']], [[1, '1'], [13, '1']], [[0, '1'], [22, '1']], [[3, '11'], [27, '8']], [[24, '1']], [[15, '1']], [[24, '1']], [], [[24, '1']], [[15, '1']], [[24, '1']], [[27, '1'], [31, '8']], [[19, '1']], [[15, '1']], [[19, '1']], [[3, '2'], [27, '1']], [[19, '1']], [[1, '2'], [15, '1']], [[19, '1']]]\n",
    "tempo = 200\n",
    "path = \"output.midi\"\n",
    "mf = MIDIFile(1)     # only 1 track\n",
    "track = 0   # the only track\n",
    "time = 0    # start at the beginning\n",
    "channel = 0\n",
    "volume = 100\n",
    "tempo = int(tempo)\n",
    "mf.addTrackName(track, time, \"Sample Track\")\n",
    "mf.addTempo(track, time, tempo)\n",
    "for note_time, pitches in enumerate(notes):\n",
    "    for pitch in pitches:\n",
    "        duration, note_value = string_parse(pitch)\n",
    "        print(f'Pitch is {note_value} beat is {note_time} and length is {duration}')\n",
    "        mf.addNote(track, channel, note_value, note_time, duration, volume)\n",
    "\n",
    "with open(\"tmp.mid\", \"wb\") as output_file:\n",
    "    mf.writeFile(output_file)"
   ]
  },
  {
   "cell_type": "code",
   "execution_count": 23,
   "id": "5975f6ba",
   "metadata": {},
   "outputs": [],
   "source": [
    "from miditoolkit import MidiFile\n",
    "mid = MidiFile('tmp.mid', clip=True)\n"
   ]
  },
  {
   "cell_type": "code",
   "execution_count": 25,
   "id": "d8e384fd",
   "metadata": {},
   "outputs": [
    {
     "name": "stdout",
     "output_type": "stream",
     "text": [
      "Help on MidiFile in module miditoolkit.midi.parser object:\n",
      "\n",
      "class MidiFile(builtins.object)\n",
      " |  MidiFile(filename: Union[pathlib.Path, str, NoneType] = None, file=None, ticks_per_beat: int = 480, clip: bool = False, charset: str = 'latin1')\n",
      " |  \n",
      " |  Methods defined here:\n",
      " |  \n",
      " |  __eq__(self, other)\n",
      " |      Return self==value.\n",
      " |  \n",
      " |  __init__(self, filename: Union[pathlib.Path, str, NoneType] = None, file=None, ticks_per_beat: int = 480, clip: bool = False, charset: str = 'latin1')\n",
      " |      Initialize self.  See help(type(self)) for accurate signature.\n",
      " |  \n",
      " |  __repr__(self)\n",
      " |      Return repr(self).\n",
      " |  \n",
      " |  __str__(self)\n",
      " |      Return str(self).\n",
      " |  \n",
      " |  dump(self, filename: Union[pathlib.Path, str, NoneType] = None, file=None, segment: Optional[Tuple[int, int]] = None, shift: bool = True, instrument_idx: Optional[int] = None, charset: str = 'latin1')\n",
      " |  \n",
      " |  get_tick_to_time_mapping(self) -> numpy.ndarray\n",
      " |  \n",
      " |  ----------------------------------------------------------------------\n",
      " |  Readonly properties defined here:\n",
      " |  \n",
      " |  num_instruments\n",
      " |  \n",
      " |  ----------------------------------------------------------------------\n",
      " |  Data descriptors defined here:\n",
      " |  \n",
      " |  __dict__\n",
      " |      dictionary for instance variables (if defined)\n",
      " |  \n",
      " |  __weakref__\n",
      " |      list of weak references to the object (if defined)\n",
      " |  \n",
      " |  ----------------------------------------------------------------------\n",
      " |  Data and other attributes defined here:\n",
      " |  \n",
      " |  __hash__ = None\n",
      "\n"
     ]
    }
   ],
   "source": [
    "help(mid)"
   ]
  },
  {
   "cell_type": "code",
   "execution_count": null,
   "id": "14f83f09",
   "metadata": {},
   "outputs": [],
   "source": [
    "string =[[['G3', '1'], ['G2', '8']], [['B3', '1']], [['G4', '1']], [['B3', '1']], [['G5', '2'], ['G3', '1']], [['B3', '1']], [['G5', '2'], ['G4', '1']], [['B3', '1']], [['F#5', '3'], ['F#3', '1'], ['D3', '8']], [['A3', '1']], [['F#4', '1']], [['E5', '1'], ['A3', '1']], [['F#5', '2'], ['F#3', '1']], [['A3', '1']], [['F#5', '1'], ['F#4', '1']], [['G5', '1'], ['A3', '1']], [['E5', '11'], ['E3', '8']], [['G3', '1']], [['E4', '1']], [['G3', '1']], [], [['G3', '1']], [['E4', '1']], [['G3', '1']], [['E3', '1'], ['C3', '8']], [['C4', '1']], [['E4', '1']], [['C4', '1']], [['E5', '2'], ['E3', '1']], [['C4', '1']], [['F#5', '2'], ['E4', '1']], [['C4', '1']]]"
   ]
  },
  {
   "cell_type": "code",
   "execution_count": 16,
   "id": "9a77c57f",
   "metadata": {},
   "outputs": [
    {
     "name": "stdout",
     "output_type": "stream",
     "text": [
      "[[['G3', '1'], ['G2', '8']], [['B3', '1']], [['G4', '1']], [['B3', '1']], [['G5', '2'], ['G3', '1']], [['B3', '1']], [['G5', '2'], ['G4', '1']], [['B3', '1']], [['F#5', '3'], ['F#3', '1'], ['D3', '8']], [['A3', '1']], [['F#4', '1']], [['E5', '1'], ['A3', '1']], [['F#5', '2'], ['F#3', '1']], [['A3', '1']], [['F#5', '1'], ['F#4', '1']], [['G5', '1'], ['A3', '1']], [['E5', '11'], ['E3', '8']], [['G3', '1']], [['E4', '1']], [['G3', '1']], [], [['G3', '1']], [['E4', '1']], [['G3', '1']], [['E3', '1'], ['C3', '8']], [['C4', '1']], [['E4', '1']], [['C4', '1']], [['E5', '2'], ['E3', '1']], [['C4', '1']], [['F#5', '2'], ['E4', '1']], [['C4', '1']]]\n"
     ]
    }
   ],
   "source": [
    "print(string)"
   ]
  },
  {
   "cell_type": "code",
   "execution_count": 17,
   "id": "4cd850ce",
   "metadata": {},
   "outputs": [
    {
     "ename": "NameError",
     "evalue": "name 'mf' is not defined",
     "output_type": "error",
     "traceback": [
      "\u001b[1;31m---------------------------------------------------------------------------\u001b[0m",
      "\u001b[1;31mNameError\u001b[0m                                 Traceback (most recent call last)",
      "Cell \u001b[1;32mIn[17], line 1\u001b[0m\n\u001b[1;32m----> 1\u001b[0m \u001b[43mmf\u001b[49m\n",
      "\u001b[1;31mNameError\u001b[0m: name 'mf' is not defined"
     ]
    }
   ],
   "source": [
    "mf"
   ]
  },
  {
   "cell_type": "code",
   "execution_count": 18,
   "id": "9e1b07fe",
   "metadata": {},
   "outputs": [
    {
     "name": "stdout",
     "output_type": "stream",
     "text": [
      "0\n",
      "0\n",
      "1\n",
      "2\n",
      "3\n",
      "4\n",
      "4\n",
      "5\n",
      "6\n",
      "6\n",
      "7\n",
      "8\n",
      "8\n",
      "8\n",
      "9\n",
      "10\n",
      "11\n",
      "11\n",
      "12\n",
      "12\n",
      "13\n",
      "14\n",
      "14\n",
      "15\n",
      "15\n",
      "16\n",
      "16\n",
      "17\n",
      "18\n",
      "19\n",
      "21\n",
      "22\n",
      "23\n",
      "24\n",
      "24\n",
      "25\n",
      "26\n",
      "27\n",
      "28\n",
      "28\n",
      "29\n",
      "30\n",
      "30\n",
      "31\n",
      "<midiutil.MidiFile.MIDIFile object at 0x0000015C24190A30>\n"
     ]
    },
    {
     "data": {
      "text/plain": [
       "'output.midi'"
      ]
     },
     "execution_count": 18,
     "metadata": {},
     "output_type": "execute_result"
    }
   ],
   "source": [
    "populate_midi(string, 180)"
   ]
  },
  {
   "cell_type": "code",
   "execution_count": 9,
   "id": "6265ab44",
   "metadata": {},
   "outputs": [
    {
     "name": "stdout",
     "output_type": "stream",
     "text": [
      "1\n",
      "2\n",
      "3\n",
      "4\n",
      "5\n",
      "6\n",
      "7\n",
      "8\n"
     ]
    }
   ],
   "source": [
    "from midiutil import MIDIFile\n",
    "\n",
    "degrees  = [60, 62, 64, 65, 67, 69, 71, 72] # MIDI note number\n",
    "track    = 0\n",
    "channel  = 0\n",
    "time     = 0   # In beats\n",
    "duration = 1   # In beats\n",
    "tempo    = 60  # In BPM\n",
    "volume   = 100 # 0-127, as per the MIDI standard\n",
    "\n",
    "MyMIDI = MIDIFile(1) # One track, defaults to format 1 (tempo track\n",
    "                     # automatically created)\n",
    "MyMIDI.addTempo(track,time, tempo)\n",
    "\n",
    "for pitch in degrees:\n",
    "    MyMIDI.addNote(track, channel, pitch, time, duration, volume)\n",
    "    time = time + 1\n",
    "    print(time)\n",
    "    MyMIDI.addNote(track, channel, 65, 0, 3, volume)\n",
    "    \n",
    "\n",
    "with open(\"major-scale.mid\", \"wb\") as output_file:\n",
    "    MyMIDI.writeFile(output_file)"
   ]
  },
  {
   "cell_type": "code",
   "execution_count": null,
   "id": "2efeb5fd",
   "metadata": {},
   "outputs": [],
   "source": []
  }
 ],
 "metadata": {
  "kernelspec": {
   "display_name": "Python 3 (ipykernel)",
   "language": "python",
   "name": "python3"
  },
  "language_info": {
   "codemirror_mode": {
    "name": "ipython",
    "version": 3
   },
   "file_extension": ".py",
   "mimetype": "text/x-python",
   "name": "python",
   "nbconvert_exporter": "python",
   "pygments_lexer": "ipython3",
   "version": "3.10.9"
  }
 },
 "nbformat": 4,
 "nbformat_minor": 5
}
